{
  "cells": [
    {
      "cell_type": "code",
      "execution_count": null,
      "metadata": {
        "id": "BRxKDkhsozCA"
      },
      "outputs": [],
      "source": []
    },
    {
      "cell_type": "code",
      "execution_count": 1,
      "metadata": {
        "colab": {
          "base_uri": "https://localhost:8080/"
        },
        "id": "VG8HkN1iqR6Q",
        "outputId": "9affb042-1a9d-49d6-ebe1-31af83996219"
      },
      "outputs": [
        {
          "output_type": "stream",
          "name": "stdout",
          "text": [
            "Drive already mounted at /content/drive; to attempt to forcibly remount, call drive.mount(\"/content/drive\", force_remount=True).\n"
          ]
        }
      ],
      "source": [
        "from google.colab import drive\n",
        "drive.mount('/content/drive')"
      ]
    },
    {
      "cell_type": "code",
      "execution_count": 2,
      "metadata": {
        "colab": {
          "base_uri": "https://localhost:8080/"
        },
        "id": "V0qjLiSmq5sm",
        "outputId": "6f6a7920-e845-4363-f201-97640507f450"
      },
      "outputs": [
        {
          "output_type": "stream",
          "name": "stdout",
          "text": [
            "Collecting streamlit\n",
            "  Downloading streamlit-1.31.1-py2.py3-none-any.whl (8.4 MB)\n",
            "\u001b[2K     \u001b[90m━━━━━━━━━━━━━━━━━━━━━━━━━━━━━━━━━━━━━━━━\u001b[0m \u001b[32m8.4/8.4 MB\u001b[0m \u001b[31m30.0 MB/s\u001b[0m eta \u001b[36m0:00:00\u001b[0m\n",
            "\u001b[?25hCollecting faker\n",
            "  Downloading Faker-23.2.1-py3-none-any.whl (1.7 MB)\n",
            "\u001b[2K     \u001b[90m━━━━━━━━━━━━━━━━━━━━━━━━━━━━━━━━━━━━━━━━\u001b[0m \u001b[32m1.7/1.7 MB\u001b[0m \u001b[31m56.8 MB/s\u001b[0m eta \u001b[36m0:00:00\u001b[0m\n",
            "\u001b[?25hRequirement already satisfied: altair<6,>=4.0 in /usr/local/lib/python3.10/dist-packages (from streamlit) (4.2.2)\n",
            "Requirement already satisfied: blinker<2,>=1.0.0 in /usr/lib/python3/dist-packages (from streamlit) (1.4)\n",
            "Requirement already satisfied: cachetools<6,>=4.0 in /usr/local/lib/python3.10/dist-packages (from streamlit) (5.3.2)\n",
            "Requirement already satisfied: click<9,>=7.0 in /usr/local/lib/python3.10/dist-packages (from streamlit) (8.1.7)\n",
            "Requirement already satisfied: importlib-metadata<8,>=1.4 in /usr/local/lib/python3.10/dist-packages (from streamlit) (7.0.1)\n",
            "Requirement already satisfied: numpy<2,>=1.19.3 in /usr/local/lib/python3.10/dist-packages (from streamlit) (1.25.2)\n",
            "Requirement already satisfied: packaging<24,>=16.8 in /usr/local/lib/python3.10/dist-packages (from streamlit) (23.2)\n",
            "Requirement already satisfied: pandas<3,>=1.3.0 in /usr/local/lib/python3.10/dist-packages (from streamlit) (1.5.3)\n",
            "Requirement already satisfied: pillow<11,>=7.1.0 in /usr/local/lib/python3.10/dist-packages (from streamlit) (9.4.0)\n",
            "Requirement already satisfied: protobuf<5,>=3.20 in /usr/local/lib/python3.10/dist-packages (from streamlit) (3.20.3)\n",
            "Requirement already satisfied: pyarrow>=7.0 in /usr/local/lib/python3.10/dist-packages (from streamlit) (14.0.2)\n",
            "Requirement already satisfied: python-dateutil<3,>=2.7.3 in /usr/local/lib/python3.10/dist-packages (from streamlit) (2.8.2)\n",
            "Requirement already satisfied: requests<3,>=2.27 in /usr/local/lib/python3.10/dist-packages (from streamlit) (2.31.0)\n",
            "Requirement already satisfied: rich<14,>=10.14.0 in /usr/local/lib/python3.10/dist-packages (from streamlit) (13.7.0)\n",
            "Requirement already satisfied: tenacity<9,>=8.1.0 in /usr/local/lib/python3.10/dist-packages (from streamlit) (8.2.3)\n",
            "Requirement already satisfied: toml<2,>=0.10.1 in /usr/local/lib/python3.10/dist-packages (from streamlit) (0.10.2)\n",
            "Requirement already satisfied: typing-extensions<5,>=4.3.0 in /usr/local/lib/python3.10/dist-packages (from streamlit) (4.9.0)\n",
            "Requirement already satisfied: tzlocal<6,>=1.1 in /usr/local/lib/python3.10/dist-packages (from streamlit) (5.2)\n",
            "Collecting validators<1,>=0.2 (from streamlit)\n",
            "  Downloading validators-0.22.0-py3-none-any.whl (26 kB)\n",
            "Collecting gitpython!=3.1.19,<4,>=3.0.7 (from streamlit)\n",
            "  Downloading GitPython-3.1.42-py3-none-any.whl (195 kB)\n",
            "\u001b[2K     \u001b[90m━━━━━━━━━━━━━━━━━━━━━━━━━━━━━━━━━━━━━━━━\u001b[0m \u001b[32m195.4/195.4 kB\u001b[0m \u001b[31m31.9 MB/s\u001b[0m eta \u001b[36m0:00:00\u001b[0m\n",
            "\u001b[?25hCollecting pydeck<1,>=0.8.0b4 (from streamlit)\n",
            "  Downloading pydeck-0.8.1b0-py2.py3-none-any.whl (4.8 MB)\n",
            "\u001b[2K     \u001b[90m━━━━━━━━━━━━━━━━━━━━━━━━━━━━━━━━━━━━━━━━\u001b[0m \u001b[32m4.8/4.8 MB\u001b[0m \u001b[31m76.0 MB/s\u001b[0m eta \u001b[36m0:00:00\u001b[0m\n",
            "\u001b[?25hRequirement already satisfied: tornado<7,>=6.0.3 in /usr/local/lib/python3.10/dist-packages (from streamlit) (6.3.2)\n",
            "Collecting watchdog>=2.1.5 (from streamlit)\n",
            "  Downloading watchdog-4.0.0-py3-none-manylinux2014_x86_64.whl (82 kB)\n",
            "\u001b[2K     \u001b[90m━━━━━━━━━━━━━━━━━━━━━━━━━━━━━━━━━━━━━━━━\u001b[0m \u001b[32m83.0/83.0 kB\u001b[0m \u001b[31m13.3 MB/s\u001b[0m eta \u001b[36m0:00:00\u001b[0m\n",
            "\u001b[?25hRequirement already satisfied: entrypoints in /usr/local/lib/python3.10/dist-packages (from altair<6,>=4.0->streamlit) (0.4)\n",
            "Requirement already satisfied: jinja2 in /usr/local/lib/python3.10/dist-packages (from altair<6,>=4.0->streamlit) (3.1.3)\n",
            "Requirement already satisfied: jsonschema>=3.0 in /usr/local/lib/python3.10/dist-packages (from altair<6,>=4.0->streamlit) (4.19.2)\n",
            "Requirement already satisfied: toolz in /usr/local/lib/python3.10/dist-packages (from altair<6,>=4.0->streamlit) (0.12.1)\n",
            "Collecting gitdb<5,>=4.0.1 (from gitpython!=3.1.19,<4,>=3.0.7->streamlit)\n",
            "  Downloading gitdb-4.0.11-py3-none-any.whl (62 kB)\n",
            "\u001b[2K     \u001b[90m━━━━━━━━━━━━━━━━━━━━━━━━━━━━━━━━━━━━━━━━\u001b[0m \u001b[32m62.7/62.7 kB\u001b[0m \u001b[31m11.5 MB/s\u001b[0m eta \u001b[36m0:00:00\u001b[0m\n",
            "\u001b[?25hRequirement already satisfied: zipp>=0.5 in /usr/local/lib/python3.10/dist-packages (from importlib-metadata<8,>=1.4->streamlit) (3.17.0)\n",
            "Requirement already satisfied: pytz>=2020.1 in /usr/local/lib/python3.10/dist-packages (from pandas<3,>=1.3.0->streamlit) (2023.4)\n",
            "Requirement already satisfied: six>=1.5 in /usr/local/lib/python3.10/dist-packages (from python-dateutil<3,>=2.7.3->streamlit) (1.16.0)\n",
            "Requirement already satisfied: charset-normalizer<4,>=2 in /usr/local/lib/python3.10/dist-packages (from requests<3,>=2.27->streamlit) (3.3.2)\n",
            "Requirement already satisfied: idna<4,>=2.5 in /usr/local/lib/python3.10/dist-packages (from requests<3,>=2.27->streamlit) (3.6)\n",
            "Requirement already satisfied: urllib3<3,>=1.21.1 in /usr/local/lib/python3.10/dist-packages (from requests<3,>=2.27->streamlit) (2.0.7)\n",
            "Requirement already satisfied: certifi>=2017.4.17 in /usr/local/lib/python3.10/dist-packages (from requests<3,>=2.27->streamlit) (2024.2.2)\n",
            "Requirement already satisfied: markdown-it-py>=2.2.0 in /usr/local/lib/python3.10/dist-packages (from rich<14,>=10.14.0->streamlit) (3.0.0)\n",
            "Requirement already satisfied: pygments<3.0.0,>=2.13.0 in /usr/local/lib/python3.10/dist-packages (from rich<14,>=10.14.0->streamlit) (2.16.1)\n",
            "Collecting smmap<6,>=3.0.1 (from gitdb<5,>=4.0.1->gitpython!=3.1.19,<4,>=3.0.7->streamlit)\n",
            "  Downloading smmap-5.0.1-py3-none-any.whl (24 kB)\n",
            "Requirement already satisfied: MarkupSafe>=2.0 in /usr/local/lib/python3.10/dist-packages (from jinja2->altair<6,>=4.0->streamlit) (2.1.5)\n",
            "Requirement already satisfied: attrs>=22.2.0 in /usr/local/lib/python3.10/dist-packages (from jsonschema>=3.0->altair<6,>=4.0->streamlit) (23.2.0)\n",
            "Requirement already satisfied: jsonschema-specifications>=2023.03.6 in /usr/local/lib/python3.10/dist-packages (from jsonschema>=3.0->altair<6,>=4.0->streamlit) (2023.12.1)\n",
            "Requirement already satisfied: referencing>=0.28.4 in /usr/local/lib/python3.10/dist-packages (from jsonschema>=3.0->altair<6,>=4.0->streamlit) (0.33.0)\n",
            "Requirement already satisfied: rpds-py>=0.7.1 in /usr/local/lib/python3.10/dist-packages (from jsonschema>=3.0->altair<6,>=4.0->streamlit) (0.18.0)\n",
            "Requirement already satisfied: mdurl~=0.1 in /usr/local/lib/python3.10/dist-packages (from markdown-it-py>=2.2.0->rich<14,>=10.14.0->streamlit) (0.1.2)\n",
            "Installing collected packages: watchdog, validators, smmap, pydeck, gitdb, faker, gitpython, streamlit\n",
            "Successfully installed faker-23.2.1 gitdb-4.0.11 gitpython-3.1.42 pydeck-0.8.1b0 smmap-5.0.1 streamlit-1.31.1 validators-0.22.0 watchdog-4.0.0\n"
          ]
        }
      ],
      "source": [
        "!pip install streamlit faker"
      ]
    },
    {
      "cell_type": "code",
      "execution_count": 3,
      "metadata": {
        "colab": {
          "base_uri": "https://localhost:8080/"
        },
        "id": "TpNuNmQeq33W",
        "outputId": "c2db8423-adc9-44f3-e19d-de6bcd092d41"
      },
      "outputs": [
        {
          "output_type": "stream",
          "name": "stdout",
          "text": [
            "Streamlit app code has been saved to app.py\n"
          ]
        }
      ],
      "source": [
        "streamlit_code = \"\"\"\n",
        "import streamlit as st\n",
        "import numpy as np\n",
        "from PIL import Image as PILImage\n",
        "from keras.preprocessing import image as keras_preprocessing_image\n",
        "from keras.models import load_model\n",
        "import json\n",
        "import sqlite3\n",
        "from io import BytesIO\n",
        "\n",
        "# Connect to SQLite database\n",
        "conn = sqlite3.connect('/content/image_database.db')\n",
        "cursor = conn.cursor()\n",
        "\n",
        "# Create table if not exists\n",
        "cursor.execute('''\n",
        "    CREATE TABLE IF NOT EXISTS uploaded_images (\n",
        "        id INTEGER PRIMARY KEY AUTOINCREMENT,\n",
        "        image BLOB\n",
        "    )\n",
        "''')\n",
        "conn.commit()\n",
        "\n",
        "# Function to preprocess the image\n",
        "def preprocess_image(img, target_size):\n",
        "    if img.mode == 'RGBA':\n",
        "        img = img.convert('RGB')\n",
        "    img = img.resize(target_size)\n",
        "    img = keras_preprocessing_image.img_to_array(img)\n",
        "    img = np.expand_dims(img, axis=0)\n",
        "    img /= 255.0\n",
        "    return img\n",
        "\n",
        "# Load the model\n",
        "model = load_model(\"/content/drive/MyDrive/grape_disease_model.h5\")\n",
        "\n",
        "# Load the labels mapping\n",
        "with open(\"/content/drive/MyDrive/labels_mapping.json\", \"r\") as json_file:\n",
        "    labels = json.load(json_file)\n",
        "\n",
        "# Mapping of links and information for each class\n",
        "class_info = {\n",
        "    \"Black Rot\": {\n",
        "        \"link\": \"https://www.iffcobazar.in/en/product/satsuma-mancozeb-75-wp#satsuma-1-kg\",\n",
        "        \"introduction\": \"Black Rot is a common grape disease caused by a fungus. It affects the leaves and can lead to significant yield losses. To control Black Rot, consider using chemical solutions like Satsuma Mancozeb 75 WP.\",\n",
        "        \"natural_methods\": \"To prevent Black Rot naturally, maintain good vineyard hygiene. Prune infected parts, provide proper spacing for air circulation, and use organic fungicides. Organic fungicides are always respected in comparison to inorganic compounds.\"\n",
        "    },\n",
        "    \"ESCA\": {\n",
        "        \"link\": \"https://www.iffcobazar.in/en/product/moyashi-thiophanate-methyl-70-wp#moyashi-thiophanate-methyl-70-wp-500-gm\",\n",
        "        \"introduction\": \"ESCA, also known as Esca complex, is a grapevine disease caused by various fungi. It affects the wood and can result in wilting and decline. Thiophanate Methyl 70 WP is an effective solution.\",\n",
        "        \"natural_methods\": \"To combat ESCA naturally, ensure proper vineyard sanitation, prune infected parts, and use organic anti-fungal treatments. Additionally, promote overall vine health through balanced nutrition.\"\n",
        "    },\n",
        "    \"Leaf Blight\": {\n",
        "        \"link\": \"https://www.iffcobazar.in/en/product/gozaru-copper-oxychloride-50-wp#gozaru-copper-oxychloride-50-wp-500-gm\",\n",
        "        \"introduction\": \"Leaf Blight is a common grape disease caused by bacteria. It affects the leaves, leading to spots and necrosis. Gozaru Copper Oxychloride 50 WP is an effective fungicide.\",\n",
        "        \"natural_methods\": \"For natural control of Leaf Blight, practice proper vineyard management. Remove infected leaves, ensure proper air circulation, and use copper-based organic fungicides. Maintain overall vineyard health.\"\n",
        "    }\n",
        "}\n",
        "\n",
        "# Streamlit app\n",
        "st.title(\"Grape Disease Classification\")\n",
        "\n",
        "# Confidence threshold to filter out predictions with low confidence\n",
        "confidence_threshold = 0.5\n",
        "\n",
        "# Section to display stored images\n",
        "st.header(\"Stored Images\")\n",
        "\n",
        "# Fetch stored images from the database\n",
        "stored_images = cursor.execute('SELECT image FROM uploaded_images').fetchall()\n",
        "\n",
        "# Display stored images\n",
        "for stored_image in stored_images:\n",
        "    img_bytes = BytesIO(stored_image[0])\n",
        "    st.image(img_bytes, caption=\"Stored Image\", use_column_width=True)\n",
        "\n",
        "# Section for uploading new images\n",
        "st.header(\"Upload New Image\")\n",
        "\n",
        "uploaded_file = st.file_uploader(\"Choose a grape leaf image...\", type=\"jpg\")\n",
        "\n",
        "if uploaded_file is not None:\n",
        "    # Display the uploaded image\n",
        "    uploaded_image = PILImage.open(uploaded_file)\n",
        "    st.image(uploaded_image, caption=\"Uploaded Image\", use_column_width=True)\n",
        "\n",
        "    # Save the image to the database\n",
        "    image_bytes = BytesIO()\n",
        "    uploaded_image.save(image_bytes, format='JPEG')\n",
        "    cursor.execute('INSERT INTO uploaded_images (image) VALUES (?)', (image_bytes.getvalue(),))\n",
        "    conn.commit()\n",
        "\n",
        "    # Make prediction\n",
        "    processed_image = preprocess_image(uploaded_image, target_size=(224, 224))\n",
        "    prediction = model.predict(processed_image)\n",
        "    predicted_class_idx = np.argmax(prediction)\n",
        "    prediction_probability = np.max(prediction)\n",
        "\n",
        "    # Check if the prediction probability is above the confidence threshold\n",
        "    if prediction_probability >= confidence_threshold:\n",
        "        try:\n",
        "            predicted_class = list(labels.keys())[predicted_class_idx]\n",
        "            st.write(f\"Prediction: {predicted_class}\")\n",
        "            st.write(f\"Probability: {prediction_probability:.2%}\")\n",
        "\n",
        "            # Display links and information based on predicted class\n",
        "            if predicted_class in class_info:\n",
        "                st.write(f\"Product Link: {class_info[predicted_class]['link']}\")\n",
        "                st.write(f\"Introduction: {class_info[predicted_class]['introduction']}\")\n",
        "                st.write(f\"Natural Methods: {class_info[predicted_class]['natural_methods']}\")\n",
        "            else:\n",
        "                st.warning(\"Additional information not available for this class.\")\n",
        "\n",
        "        except IndexError:\n",
        "            st.error(\"Error: Index out of bounds. Check the consistency of labels and model output.\")\n",
        "    else:\n",
        "        st.write(\"Unknown\")\n",
        "\n",
        "# Close the database connection\n",
        "conn.close()\n",
        "\n",
        "\n",
        "\n",
        "\"\"\"\n",
        "\n",
        "\n",
        "with open('/content/app.py', 'w') as file:\n",
        "   file.write(streamlit_code)\n",
        "\n",
        "\n",
        "print(\"Streamlit app code has been saved to app.py\")"
      ]
    },
    {
      "cell_type": "code",
      "execution_count": 4,
      "metadata": {
        "colab": {
          "base_uri": "https://localhost:8080/"
        },
        "id": "-RB1Spy4rmnQ",
        "outputId": "3b5b987b-009a-4f4a-a0f2-66680ef6fdfc"
      },
      "outputs": [
        {
          "output_type": "stream",
          "name": "stdout",
          "text": [
            "--2024-02-26 20:55:49--  https://bin.equinox.io/c/4VmDzA7iaHb/ngrok-stable-linux-amd64.zip\n",
            "Resolving bin.equinox.io (bin.equinox.io)... 54.161.241.46, 54.237.133.81, 52.202.168.65, ...\n",
            "Connecting to bin.equinox.io (bin.equinox.io)|54.161.241.46|:443... connected.\n",
            "HTTP request sent, awaiting response... 200 OK\n",
            "Length: 13921656 (13M) [application/octet-stream]\n",
            "Saving to: ‘ngrok-stable-linux-amd64.zip’\n",
            "\n",
            "ngrok-stable-linux- 100%[===================>]  13.28M  19.6MB/s    in 0.7s    \n",
            "\n",
            "2024-02-26 20:55:50 (19.6 MB/s) - ‘ngrok-stable-linux-amd64.zip’ saved [13921656/13921656]\n",
            "\n",
            "Archive:  ngrok-stable-linux-amd64.zip\n",
            "  inflating: ngrok                   \n"
          ]
        }
      ],
      "source": [
        "# Download ngrok binary for Linux\n",
        "!wget https://bin.equinox.io/c/4VmDzA7iaHb/ngrok-stable-linux-amd64.zip\n",
        "\n",
        "# Unzip the downloaded file\n",
        "!unzip ngrok-stable-linux-amd64.zip\n",
        "\n",
        "# Move ngrok to /usr/local/bin (or any directory in your PATH)\n",
        "!sudo mv ngrok /usr/local/bin/\n",
        "\n",
        "# Clean up the downloaded files (optional)\n",
        "!rm ngrok-stable-linux-amd64.zip"
      ]
    },
    {
      "cell_type": "code",
      "execution_count": 5,
      "metadata": {
        "colab": {
          "base_uri": "https://localhost:8080/"
        },
        "id": "jnbr3WLus_cO",
        "outputId": "9ef44475-d9e3-4737-8259-9f410368bea0"
      },
      "outputs": [
        {
          "output_type": "stream",
          "name": "stdout",
          "text": [
            "deb https://ngrok-agent.s3.amazonaws.com buster main\n",
            "Get:1 https://developer.download.nvidia.com/compute/cuda/repos/ubuntu2204/x86_64  InRelease [1,581 B]\n",
            "Get:2 http://security.ubuntu.com/ubuntu jammy-security InRelease [110 kB]\n",
            "Hit:3 http://archive.ubuntu.com/ubuntu jammy InRelease\n",
            "Get:4 https://ngrok-agent.s3.amazonaws.com buster InRelease [20.3 kB]\n",
            "Get:5 http://archive.ubuntu.com/ubuntu jammy-updates InRelease [119 kB]\n",
            "Get:6 https://developer.download.nvidia.com/compute/cuda/repos/ubuntu2204/x86_64  Packages [713 kB]\n",
            "Get:7 https://cloud.r-project.org/bin/linux/ubuntu jammy-cran40/ InRelease [3,622 B]\n",
            "Hit:8 http://archive.ubuntu.com/ubuntu jammy-backports InRelease\n",
            "Get:9 https://ngrok-agent.s3.amazonaws.com buster/main amd64 Packages [3,730 B]\n",
            "Get:10 http://security.ubuntu.com/ubuntu jammy-security/universe amd64 Packages [1,070 kB]\n",
            "Hit:11 https://ppa.launchpadcontent.net/c2d4u.team/c2d4u4.0+/ubuntu jammy InRelease\n",
            "Get:12 http://archive.ubuntu.com/ubuntu jammy-updates/universe amd64 Packages [1,343 kB]\n",
            "Get:13 https://ppa.launchpadcontent.net/deadsnakes/ppa/ubuntu jammy InRelease [18.1 kB]\n",
            "Get:14 http://security.ubuntu.com/ubuntu jammy-security/main amd64 Packages [1,502 kB]\n",
            "Hit:15 https://ppa.launchpadcontent.net/graphics-drivers/ppa/ubuntu jammy InRelease\n",
            "Get:16 http://archive.ubuntu.com/ubuntu jammy-updates/main amd64 Packages [1,786 kB]\n",
            "Hit:17 https://ppa.launchpadcontent.net/ubuntugis/ppa/ubuntu jammy InRelease\n",
            "Get:18 http://archive.ubuntu.com/ubuntu jammy-updates/restricted amd64 Packages [1,908 kB]\n",
            "Get:19 https://ppa.launchpadcontent.net/deadsnakes/ppa/ubuntu jammy/main amd64 Packages [27.7 kB]\n",
            "Fetched 8,626 kB in 2s (5,593 kB/s)\n",
            "Reading package lists... Done\n",
            "Building dependency tree... Done\n",
            "Reading state information... Done\n",
            "42 packages can be upgraded. Run 'apt list --upgradable' to see them.\n",
            "Reading package lists... Done\n",
            "Building dependency tree... Done\n",
            "Reading state information... Done\n",
            "The following NEW packages will be installed:\n",
            "  ngrok\n",
            "0 upgraded, 1 newly installed, 0 to remove and 42 not upgraded.\n",
            "Need to get 6,460 kB of archives.\n",
            "After this operation, 0 B of additional disk space will be used.\n",
            "Get:1 https://ngrok-agent.s3.amazonaws.com buster/main amd64 ngrok amd64 3.6.0 [6,460 kB]\n",
            "Fetched 6,460 kB in 1s (12.4 MB/s)\n",
            "debconf: unable to initialize frontend: Dialog\n",
            "debconf: (No usable dialog-like program is installed, so the dialog based frontend cannot be used. at /usr/share/perl5/Debconf/FrontEnd/Dialog.pm line 78, <> line 1.)\n",
            "debconf: falling back to frontend: Readline\n",
            "debconf: unable to initialize frontend: Readline\n",
            "debconf: (This frontend requires a controlling tty.)\n",
            "debconf: falling back to frontend: Teletype\n",
            "dpkg-preconfigure: unable to re-open stdin: \n",
            "Selecting previously unselected package ngrok.\n",
            "(Reading database ... 121749 files and directories currently installed.)\n",
            "Preparing to unpack .../archives/ngrok_3.6.0_amd64.deb ...\n",
            "Unpacking ngrok (3.6.0) ...\n",
            "Setting up ngrok (3.6.0) ...\n"
          ]
        }
      ],
      "source": [
        "! curl -s https://ngrok-agent.s3.amazonaws.com/ngrok.asc \\\n",
        "  | sudo tee /etc/apt/trusted.gpg.d/ngrok.asc >/dev/null && echo \"deb https://ngrok-agent.s3.amazonaws.com buster main\" \\\n",
        "  | sudo tee /etc/apt/sources.list.d/ngrok.list && sudo apt update && sudo apt install ngrok"
      ]
    },
    {
      "cell_type": "code",
      "execution_count": 6,
      "metadata": {
        "colab": {
          "base_uri": "https://localhost:8080/"
        },
        "id": "1VtJQSYXtH_T",
        "outputId": "6ee866c7-8971-4631-d7da-d17e0cd5ef7f"
      },
      "outputs": [
        {
          "output_type": "stream",
          "name": "stdout",
          "text": [
            "Authtoken saved to configuration file: /root/.config/ngrok/ngrok.yml\n"
          ]
        }
      ],
      "source": [
        "!ngrok authtoken 2b2dbgzgUwpEFc6LV0p39tU1zJR_3sMRYo8mQp3KCYbxNYMh\n",
        "\n"
      ]
    },
    {
      "cell_type": "code",
      "execution_count": null,
      "metadata": {
        "id": "gDiSE0sAtJ0j"
      },
      "outputs": [],
      "source": [
        "import subprocess\n",
        "from multiprocessing import Process\n",
        "\n",
        "# Function to run a command in a separate process and capture output\n",
        "def run_command(command):\n",
        "    process = subprocess.Popen(command, stdout=subprocess.PIPE, stderr=subprocess.PIPE)\n",
        "    stdout, stderr = process.communicate()\n",
        "    output = stdout.decode('utf-8') + stderr.decode('utf-8')\n",
        "    print(f\"Command: {command}\\nOutput: {output}\")\n",
        "    return output\n",
        "\n",
        "# Define the commands\n",
        "streamlit_command = ['streamlit', 'run', '/content/app.py']  # Replace with the actual path to your Streamlit app\n",
        "ngrok_command = ['ngrok', 'http', '8501']  # Expose Streamlit app on port 8501\n",
        "\n",
        "# Run each command in a separate process\n",
        "processes = [\n",
        "    Process(target=run_command, args=(streamlit_command,)),\n",
        "    Process(target=run_command, args=(ngrok_command,))\n",
        "]\n",
        "\n",
        "# Start all processes\n",
        "for process in processes:\n",
        "    process.start()\n",
        "\n",
        "# Wait for all processes to finish\n",
        "for process in processes:\n",
        "    process.join()\n"
      ]
    }
  ],
  "metadata": {
    "colab": {
      "provenance": []
    },
    "kernelspec": {
      "display_name": "Python 3",
      "name": "python3"
    },
    "language_info": {
      "name": "python"
    }
  },
  "nbformat": 4,
  "nbformat_minor": 0
}